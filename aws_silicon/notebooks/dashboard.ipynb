{
 "cells": [
  {
   "cell_type": "code",
   "execution_count": null,
   "id": "55782c8d",
   "metadata": {},
   "outputs": [],
   "source": [
    "# activation_maps_and_confusion_matrix.ipynb\n",
    "\n",
    "import numpy as np\n",
    "import matplotlib.pyplot as plt\n",
    "import seaborn as sns\n",
    "from sklearn.metrics import confusion_matrix"
   ]
  },
  {
   "cell_type": "code",
   "execution_count": null,
   "id": "41785d0c",
   "metadata": {},
   "outputs": [],
   "source": [
    "# Load activation maps from the Flyte task outputs\n",
    "cpu_activations = cpu[\"result\"]\n",
    "neuron_activations = inf2[\"result\"]"
   ]
  },
  {
   "cell_type": "code",
   "execution_count": null,
   "id": "fcd9bc28",
   "metadata": {},
   "outputs": [],
   "source": [
    "# Create a figure with subplots\n",
    "fig, (ax1, ax2) = plt.subplots(2, 1, figsize=(12, 10))\n",
    "cpu_activations = np.asarray(cpu_activations)\n",
    "neuron_activations = np.asarray(neuron_activations)\n",
    "\n",
    "# Create heatmap for the first dataset\n",
    "sns.heatmap(data=cpu_activations, cmap=\"YlGnBu\", ax=ax1, cbar=True)\n",
    "ax1.set_title(\"Heatmap for CPU\")\n",
    "ax1.set_xlabel(\"X-axis\")\n",
    "ax1.set_ylabel(\"Y-axis\")\n",
    "\n",
    "# Create heatmap for the second dataset\n",
    "sns.heatmap(data=neuron_activations, cmap=\"YlGnBu\", ax=ax2, cbar=True)\n",
    "ax2.set_title(\"Heatmap for Inferentia2\")\n",
    "ax2.set_xlabel(\"X-axis\")\n",
    "ax2.set_ylabel(\"Y-axis\")\n",
    "\n",
    "# Adjust layout and display the heatmaps\n",
    "plt.layout()\n",
    "plt.show()"
   ]
  },
  {
   "cell_type": "code",
   "execution_count": null,
   "id": "56603429-31ac-42ae-8c68-93a6b87e30b7",
   "metadata": {},
   "outputs": [],
   "source": []
  },
  {
   "cell_type": "code",
   "execution_count": null,
   "id": "edfa4128-db84-4951-bb6b-407b817a5608",
   "metadata": {},
   "outputs": [],
   "source": [
    "# Finally, lets actually print the performance characteristics from both Inference Tasks\n",
    "print(f\"Time it took to complete 1 inference pass for Resnet50\\nCPU Only: {cpu[\"cpu_time\"]}\\nInferentia v2 Accelerated: {inf2[\"inf2_time\"]}\""
   ]
  }
 ],
 "metadata": {
  "kernelspec": {
   "display_name": "Python 3 (ipykernel)",
   "language": "python",
   "name": "python3"
  },
  "language_info": {
   "codemirror_mode": {
    "name": "ipython",
    "version": 3
   },
   "file_extension": ".py",
   "mimetype": "text/x-python",
   "name": "python",
   "nbconvert_exporter": "python",
   "pygments_lexer": "ipython3",
   "version": "3.10.12"
  }
 },
 "nbformat": 4,
 "nbformat_minor": 5
}
